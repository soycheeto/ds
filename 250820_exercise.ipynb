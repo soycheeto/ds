{
 "cells": [
  {
   "cell_type": "code",
   "execution_count": 42,
   "id": "71e55bf0-f145-4560-a50e-80e771d76dc7",
   "metadata": {},
   "outputs": [],
   "source": [
    "import pandas as pd\n",
    "import sqlite3\n",
    "import logging\n",
    "from datetime import datetime\n",
    "import requests"
   ]
  },
  {
   "cell_type": "code",
   "execution_count": 43,
   "id": "ba19188e-a74f-4832-817e-a39b132977d2",
   "metadata": {},
   "outputs": [],
   "source": [
    "logging.basicConfig(level=logging.INFO, format='%(asctime)s - %(levelname)s - %(message)s')"
   ]
  },
  {
   "cell_type": "code",
   "execution_count": 44,
   "id": "f85c0a09-74f3-4a4e-8bc6-8de2bf2b8659",
   "metadata": {},
   "outputs": [],
   "source": [
    "def extract_data():\n",
    "    try:\n",
    "        df = pd.read_csv('Program3_Traffic_Volume.csv')\n",
    "        logging.info(\"Data extracted successfully\")\n",
    "        return df\n",
    "    except Exception as e:\n",
    "        logging.error(f\"Extraction failed: {e}\")\n",
    "        return None\n",
    "    "
   ]
  },
  {
   "cell_type": "code",
   "execution_count": 52,
   "id": "87ac0078-744f-463e-849c-5515ebf82392",
   "metadata": {},
   "outputs": [
    {
     "name": "stderr",
     "output_type": "stream",
     "text": [
      "2025-08-20 11:04:58,334 - ERROR - No data to transform\n"
     ]
    },
    {
     "ename": "AttributeError",
     "evalue": "'NoneType' object has no attribute 'head'",
     "output_type": "error",
     "traceback": [
      "\u001b[31m---------------------------------------------------------------------------\u001b[39m",
      "\u001b[31mAttributeError\u001b[39m                            Traceback (most recent call last)",
      "\u001b[36mCell\u001b[39m\u001b[36m \u001b[39m\u001b[32mIn[52]\u001b[39m\u001b[32m, line 38\u001b[39m\n\u001b[32m     36\u001b[39m         \u001b[38;5;28;01mreturn\u001b[39;00m \u001b[38;5;28;01mNone\u001b[39;00m\n\u001b[32m     37\u001b[39m df = transform_data(df)\n\u001b[32m---> \u001b[39m\u001b[32m38\u001b[39m \u001b[43mdf\u001b[49m\u001b[43m.\u001b[49m\u001b[43mhead\u001b[49m(\u001b[32m2\u001b[39m)\n",
      "\u001b[31mAttributeError\u001b[39m: 'NoneType' object has no attribute 'head'"
     ]
    }
   ],
   "source": [
    "def transform_data(df):\n",
    "    if df is None:\n",
    "        logging.error(\"No data to transform\")\n",
    "        return None\n",
    "    try:\n",
    "        required_columns=['date_time','weather_main','traffic_volume','weather_description']\n",
    "        if not all(col in df.columns for col in required_columns):\n",
    "            logging.error(f\"Required columns {required_columns} not found. Available columns: {list(df.columns)}\")\n",
    "            return None\n",
    "\n",
    "        df = df.rename(columns={'Unnamed: 0':'sensor_id',\n",
    "                            'traffic_volume':'vehicle_count',\n",
    "                            'temp':'speed_kmh',\n",
    "                            'date_time':'timestamp',\n",
    "                            'weather_main':'location'})\n",
    "\n",
    "        if df['sensor_id'].isnull().any():\n",
    "            logging.warning('Null sensor id found; dropping rows')\n",
    "            df = df.dropna(subset=['sensor_id'])\n",
    "\n",
    "        invalid_speed = df['speed_kmh'] < 0 | df['speed_kmh'] >200\n",
    "        if invalid_speed.any():\n",
    "            logging.warning(f\"Invalid speeds found in {invalid_speed.sum()} rows; setting to median\")\n",
    "            df.loc[invalid_speed, 'speed_kmh'] = df['speed_kmh'].median()\n",
    "\n",
    "        df['speed_mph'] = df['speed_kmh'] * 0.621371\n",
    "        df['timestamp'].fillna(datetime.now().strftime(\"%Y-%m-%d %H:%M:%S\"))\n",
    "        df['location'] = df['location'].title()\n",
    "        df['processed_at'] = datetime.now().strftime(\"%Y-%m-%d %H:%M:%S\")\n",
    "        logging.info(\"Data transformed successfully\")\n",
    "        return df\n",
    "    except Exception as e:\n",
    "        logging.error(f\"Transformation failed: {e}\")\n",
    "        return None\n"
   ]
  },
  {
   "cell_type": "code",
   "execution_count": 46,
   "id": "1edad954-183b-44aa-9705-1222c7933b36",
   "metadata": {},
   "outputs": [],
   "source": [
    "def load_data(df, db_name=\"traffic.db\", table_name=\"traffic\"):\n",
    "    if df is None:\n",
    "        logging.error(\"No data to load\")\n",
    "        return\n",
    "    try:\n",
    "        conn = sqlite3.connect(db_name)\n",
    "        df.to_sql(table_name, conn, if_exists=\"append\", index=False)\n",
    "        conn.close()\n",
    "        logging.info(f\"Data loaded to {db_name} in table {table_name}\")\n",
    "    except Exception as e:\n",
    "        logging.error(f\"Loading failed: {e}\")"
   ]
  },
  {
   "cell_type": "code",
   "execution_count": 47,
   "id": "e0e2fb57-3bc1-4f39-8843-3418a31aa6ed",
   "metadata": {},
   "outputs": [],
   "source": [
    "def verify_data(db_name=\"traffic.db\", table_name=\"traffic\"):\n",
    "    try:\n",
    "        conn = sqlite3.connect(db_name)\n",
    "        loaded_df = pd.read_sql_query(f\"SELECT * FROM {table_name}\", conn)\n",
    "        conn.close()\n",
    "        logging.info(\"Data verification completed\")\n",
    "        return loaded_df\n",
    "    except Exception as e:\n",
    "        logging.error(f\"Verification failed: {e}\")\n",
    "        return None\n"
   ]
  },
  {
   "cell_type": "code",
   "execution_count": 48,
   "id": "c439c82c-3e3d-4b9e-9b65-d7c58855bd23",
   "metadata": {},
   "outputs": [
    {
     "name": "stderr",
     "output_type": "stream",
     "text": [
      "2025-08-20 11:01:13,443 - INFO - Starting ETL pipeline\n",
      "2025-08-20 11:01:13,460 - INFO - Data extracted successfully\n",
      "2025-08-20 11:01:13,466 - ERROR - Transformation failed: Cannot perform 'ror_' with a dtyped [float64] array and scalar of type [bool]\n",
      "2025-08-20 11:01:13,466 - ERROR - No data to load\n",
      "2025-08-20 11:01:13,467 - ERROR - Verification failed: Execution failed on sql 'SELECT * FROM traffic': no such table: traffic\n"
     ]
    },
    {
     "name": "stdout",
     "output_type": "stream",
     "text": [
      "Extracted Data:\n",
      "       Unnamed: 0        holiday    temp  rain_1h  snow_1h  clouds_all  \\\n",
      "0          40255  New Years Day  249.36      0.0      0.0           1   \n",
      "1          40256            NaN  249.08      0.0      0.0           1   \n",
      "2          40257            NaN  248.86      0.0      0.0           1   \n",
      "3          40258            NaN  248.72      0.0      0.0           1   \n",
      "4          40259            NaN  248.43      0.0      0.0           1   \n",
      "...          ...            ...     ...      ...      ...         ...   \n",
      "7944       48199            NaN  283.45      0.0      0.0          75   \n",
      "7945       48200            NaN  282.76      0.0      0.0          90   \n",
      "7946       48201            NaN  282.73      0.0      0.0          90   \n",
      "7947       48202            NaN  282.09      0.0      0.0          90   \n",
      "7948       48203            NaN  282.12      0.0      0.0          90   \n",
      "\n",
      "      weather_main     weather_description            date_time  year  month  \\\n",
      "0            Clear            sky is clear  2018-01-01 00:00:00  2018      1   \n",
      "1            Clear            sky is clear  2018-01-01 01:00:00  2018      1   \n",
      "2            Clear            sky is clear  2018-01-01 02:00:00  2018      1   \n",
      "3            Clear            sky is clear  2018-01-01 03:00:00  2018      1   \n",
      "4            Clear            sky is clear  2018-01-01 04:00:00  2018      1   \n",
      "...            ...                     ...                  ...   ...    ...   \n",
      "7944        Clouds           broken clouds  2018-09-30 19:00:00  2018      9   \n",
      "7945        Clouds         overcast clouds  2018-09-30 20:00:00  2018      9   \n",
      "7946  Thunderstorm  proximity thunderstorm  2018-09-30 21:00:00  2018      9   \n",
      "7947        Clouds         overcast clouds  2018-09-30 22:00:00  2018      9   \n",
      "7948        Clouds         overcast clouds  2018-09-30 23:00:00  2018      9   \n",
      "\n",
      "      day   hour  traffic_volume  \n",
      "0       1  00:00            1478  \n",
      "1       1  01:00            1408  \n",
      "2       1  02:00             931  \n",
      "3       1  03:00             585  \n",
      "4       1  04:00             381  \n",
      "...   ...    ...             ...  \n",
      "7944   30  19:00            3543  \n",
      "7945   30  20:00            2781  \n",
      "7946   30  21:00            2159  \n",
      "7947   30  22:00            1450  \n",
      "7948   30  23:00             954  \n",
      "\n",
      "[7949 rows x 14 columns]\n",
      "\n",
      "Transformed Data:\n",
      " None\n",
      "\n",
      "Loaded Data from Database:\n",
      " None\n"
     ]
    }
   ],
   "source": [
    "logging.info(\"Starting ETL pipeline\")\n",
    "extracted_df = extract_data()\n",
    "print(\"Extracted Data:\\n\", extracted_df)\n",
    "\n",
    "transformed_df = transform_data(extracted_df)\n",
    "print(\"\\nTransformed Data:\\n\", transformed_df)\n",
    "\n",
    "load_data(transformed_df)\n",
    "verified_df = verify_data()\n",
    "print(\"\\nLoaded Data from Database:\\n\", verified_df)"
   ]
  },
  {
   "cell_type": "code",
   "execution_count": null,
   "id": "ded32bdd-8379-4557-aea0-15d54ba85fe0",
   "metadata": {},
   "outputs": [],
   "source": []
  }
 ],
 "metadata": {
  "kernelspec": {
   "display_name": "Python 3 (ipykernel)",
   "language": "python",
   "name": "python3"
  },
  "language_info": {
   "codemirror_mode": {
    "name": "ipython",
    "version": 3
   },
   "file_extension": ".py",
   "mimetype": "text/x-python",
   "name": "python",
   "nbconvert_exporter": "python",
   "pygments_lexer": "ipython3",
   "version": "3.13.6"
  }
 },
 "nbformat": 4,
 "nbformat_minor": 5
}
