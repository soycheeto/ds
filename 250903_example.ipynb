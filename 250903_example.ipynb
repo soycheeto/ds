{
 "cells": [
  {
   "cell_type": "code",
   "execution_count": 2,
   "metadata": {},
   "outputs": [],
   "source": [
    "import pandas as pd\n",
    "from sqlalchemy import create_engine, inspect"
   ]
  },
  {
   "cell_type": "code",
   "execution_count": 3,
   "metadata": {},
   "outputs": [],
   "source": [
    "# Step 1: Create SQLite engine\n",
    "engine = create_engine('sqlite:///sales_data.db')"
   ]
  },
  {
   "cell_type": "code",
   "execution_count": 4,
   "metadata": {},
   "outputs": [
    {
     "name": "stdout",
     "output_type": "stream",
     "text": [
      "Table 'sales' found in database.\n"
     ]
    }
   ],
   "source": [
    "# Step 2: Check if 'sales' table exists\n",
    "inspector = inspect(engine)\n",
    "if 'sales' not in inspector.get_table_names():\n",
    "    print(\"Table 'sales' not found. Creating sample data...\")\n",
    "\n",
    "     # Create a sample DataFrame\n",
    "    sample_data = {'sale_id': [1, 2, 3, 4, 4],  # includes a duplicate row (id=4)\n",
    "               'customer_name': ['Alice', 'Bob', None, 'Charlie', 'Charlie'],\n",
    "               'product_name': [' Widget A ', 'Widget B', 'Widget C', ' Widget D', ' Widget D '],\n",
    "               'amount': [120.0, None, -50.0, 300.0, 300.0]\n",
    "    }\n",
    "    df_sample = pd.DataFrame(sample_data)\n",
    "    # Save the DataFrame to the 'sales' table\n",
    "    df_sample.to_sql('sales', engine, if_exists='replace', index=False)\n",
    "    print(\"Sample 'sales' table created.\")\n",
    "else:\n",
    "    print(\"Table 'sales' found in database.\")\n",
    "\n"
   ]
  },
  {
   "cell_type": "code",
   "execution_count": 5,
   "metadata": {},
   "outputs": [
    {
     "name": "stdout",
     "output_type": "stream",
     "text": [
      "\n",
      "Original Data:\n",
      "    sale_id customer_name product_name  amount\n",
      "0        1         Alice    Widget A    120.0\n",
      "1        2           Bob     Widget B     NaN\n",
      "2        3          None     Widget C   -50.0\n",
      "3        4       Charlie     Widget D   300.0\n",
      "4        4       Charlie    Widget D    300.0\n"
     ]
    }
   ],
   "source": [
    "# Step 3: Load the data\n",
    "df = pd.read_sql(\"SELECT * FROM sales\", engine)\n",
    "print(\"\\nOriginal Data:\\n\", df)\n"
   ]
  },
  {
   "cell_type": "code",
   "execution_count": 6,
   "metadata": {},
   "outputs": [
    {
     "name": "stdout",
     "output_type": "stream",
     "text": [
      "\n",
      "Data Info:\n",
      "<class 'pandas.core.frame.DataFrame'>\n",
      "RangeIndex: 5 entries, 0 to 4\n",
      "Data columns (total 4 columns):\n",
      " #   Column         Non-Null Count  Dtype  \n",
      "---  ------         --------------  -----  \n",
      " 0   sale_id        5 non-null      int64  \n",
      " 1   customer_name  4 non-null      object \n",
      " 2   product_name   5 non-null      object \n",
      " 3   amount         4 non-null      float64\n",
      "dtypes: float64(1), int64(1), object(2)\n",
      "memory usage: 292.0+ bytes\n",
      "\n",
      "Missing Values:\n",
      " sale_id          0\n",
      "customer_name    1\n",
      "product_name     0\n",
      "amount           1\n",
      "dtype: int64\n",
      "\n",
      "Duplicate Rows: 0\n"
     ]
    }
   ],
   "source": [
    "# Step 4: Data Inspection\n",
    "print(\"\\nData Info:\")\n",
    "df.info()\n",
    "print(\"\\nMissing Values:\\n\", df.isnull().sum())\n",
    "print(\"\\nDuplicate Rows:\", df.duplicated().sum())\n",
    "\n"
   ]
  },
  {
   "cell_type": "code",
   "execution_count": 7,
   "metadata": {},
   "outputs": [],
   "source": [
    "# Step 5: Data Cleaning\n",
    "\n",
    "# Drop duplicate rows\n",
    "df = df.drop_duplicates()\n",
    "\n",
    "# Clean 'amount'\n",
    "df['amount'] = pd.to_numeric(df['amount'], errors='coerce')\n",
    "df['amount'] = df['amount'].fillna(df['amount'].median())\n",
    "df = df[df['amount'] > 0]  # remove invalid (e.g., negative or zero) amounts\n",
    "\n",
    "# Clean 'customer_name'\n",
    "df['customer_name'] = df['customer_name'].fillna(\"Unknown Customer\")\n",
    "\n",
    "# Clean 'product_name'\n",
    "df['product_name'] = df['product_name'].astype(str).str.strip().str.lower()\n",
    "\n"
   ]
  },
  {
   "cell_type": "code",
   "execution_count": 8,
   "metadata": {},
   "outputs": [
    {
     "name": "stdout",
     "output_type": "stream",
     "text": [
      "\n",
      "Cleaned Data:\n",
      "    sale_id customer_name product_name  amount\n",
      "0        1         Alice     widget a   120.0\n",
      "1        2           Bob     widget b   210.0\n",
      "3        4       Charlie     widget d   300.0\n",
      "4        4       Charlie     widget d   300.0\n",
      "\n",
      "Cleaned data saved to 'cleaned_sales_data.csv'\n"
     ]
    }
   ],
   "source": [
    "# Step 6: Save cleaned data\n",
    "print(\"\\nCleaned Data:\\n\", df)\n",
    "df.to_csv(\"cleaned_sales_data.csv\", index=False)\n",
    "print(\"\\nCleaned data saved to 'cleaned_sales_data.csv'\")\n"
   ]
  },
  {
   "cell_type": "code",
   "execution_count": null,
   "metadata": {},
   "outputs": [],
   "source": []
  }
 ],
 "metadata": {
  "kernelspec": {
   "display_name": ".venv",
   "language": "python",
   "name": "python3"
  },
  "language_info": {
   "codemirror_mode": {
    "name": "ipython",
    "version": 3
   },
   "file_extension": ".py",
   "mimetype": "text/x-python",
   "name": "python",
   "nbconvert_exporter": "python",
   "pygments_lexer": "ipython3",
   "version": "3.13.7"
  }
 },
 "nbformat": 4,
 "nbformat_minor": 4
}
