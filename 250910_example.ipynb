{
  "cells": [
    {
      "cell_type": "code",
      "execution_count": 2,
      "metadata": {
        "id": "fx0J4ROQ5HXM"
      },
      "outputs": [
        {
          "name": "stderr",
          "output_type": "stream",
          "text": [
            "Matplotlib is building the font cache; this may take a moment.\n"
          ]
        }
      ],
      "source": [
        "import pandas as pd\n",
        "from sklearn.linear_model import LinearRegression\n",
        "from sklearn.model_selection import train_test_split\n",
        "from sklearn.metrics import mean_squared_error, r2_score\n",
        "from math import sqrt\n",
        "import matplotlib.pyplot as plt"
      ]
    },
    {
      "cell_type": "code",
      "execution_count": 4,
      "metadata": {
        "colab": {
          "base_uri": "https://localhost:8080/"
        },
        "id": "qdjilUZN5L-w",
        "outputId": "33e16c41-5e1a-49b8-fbb6-3b8daaff1529"
      },
      "outputs": [
        {
          "name": "stdout",
          "output_type": "stream",
          "text": [
            "Original Data:\n",
            "    Square_Footage  Bedrooms  Bathrooms  House_Age  Distance_to_City_Centre  \\\n",
            "0             800         2          1         10                        2   \n",
            "1             850         2          1          8                        3   \n",
            "2             900         2          2         12                        1   \n",
            "3             950         3          2          5                        4   \n",
            "4            1000         3          2          7                        3   \n",
            "\n",
            "   Price_lakhs  \n",
            "0           50  \n",
            "1           55  \n",
            "2           60  \n",
            "3           65  \n",
            "4           70  \n"
          ]
        }
      ],
      "source": [
        "# Step 1: Load dataset\n",
        "df = pd.read_csv(\"Program5_HOUSE_PRICE.csv\")\n",
        "print(\"Original Data:\\n\", df.head())"
      ]
    },
    {
      "cell_type": "code",
      "execution_count": 5,
      "metadata": {
        "id": "xp3FjK6o5ZOe"
      },
      "outputs": [],
      "source": [
        "# Step 2: Prepare data\n",
        "X = df[['Square_Footage']]\n",
        "y = df['Price_lakhs']"
      ]
    },
    {
      "cell_type": "code",
      "execution_count": 6,
      "metadata": {
        "id": "itw3tuLh5cbJ"
      },
      "outputs": [],
      "source": [
        "# Step 3: Train/Test split\n",
        "X_train, X_test, y_train, y_test = train_test_split(X, y, test_size=0.2, random_state=42)\n"
      ]
    },
    {
      "cell_type": "code",
      "execution_count": 7,
      "metadata": {
        "colab": {
          "base_uri": "https://localhost:8080/"
        },
        "id": "Qju9VMQc6mrN",
        "outputId": "fe8e2af2-49e0-401b-da09-eb2871197171"
      },
      "outputs": [
        {
          "name": "stdout",
          "output_type": "stream",
          "text": [
            "Mean Squared Error: 1.796145239191798\n",
            "Root Mean Squared Error (RMSE): 1.3402034320176166\n",
            "Predicted Price for 1500 sqft: 122.23367697594502\n"
          ]
        },
        {
          "name": "stderr",
          "output_type": "stream",
          "text": [
            "/Users/soycheeto/Desktop/ds/.venv/lib/python3.13/site-packages/sklearn/utils/validation.py:2749: UserWarning: X does not have valid feature names, but LinearRegression was fitted with feature names\n",
            "  warnings.warn(\n"
          ]
        }
      ],
      "source": [
        "# Step 4: Model training\n",
        "model = LinearRegression()\n",
        "model.fit(X_train, y_train)\n",
        "\n",
        "# Step 5: Prediction and Evaluation\n",
        "y_pred = model.predict(X_test)\n",
        "print(\"Mean Squared Error:\", mean_squared_error(y_test, y_pred))\n",
        "print(\"Root Mean Squared Error (RMSE):\", sqrt(mean_squared_error(y_test,y_pred)))\n",
        "# Step 6: Predict new value\n",
        "new_sqft = [[1500]]\n",
        "predicted_price = model.predict(new_sqft)\n",
        "print(\"Predicted Price for 1500 sqft:\", predicted_price[0])\n",
        "r2 = r2_score(y_test, y_pred)\n"
      ]
    },
    {
      "cell_type": "markdown",
      "metadata": {
        "id": "PIhWDfpHUk5y"
      },
      "source": [
        " You're analyzing a dataset that shows the number of hours students studied and their corresponding scores. Build a linear regression model to predict scores based on study hours."
      ]
    }
  ],
  "metadata": {
    "colab": {
      "provenance": []
    },
    "kernelspec": {
      "display_name": ".venv",
      "language": "python",
      "name": "python3"
    },
    "language_info": {
      "codemirror_mode": {
        "name": "ipython",
        "version": 3
      },
      "file_extension": ".py",
      "mimetype": "text/x-python",
      "name": "python",
      "nbconvert_exporter": "python",
      "pygments_lexer": "ipython3",
      "version": "3.13.7"
    }
  },
  "nbformat": 4,
  "nbformat_minor": 0
}
