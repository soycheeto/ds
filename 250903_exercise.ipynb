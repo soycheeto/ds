{
 "cells": [
  {
   "cell_type": "code",
   "execution_count": 1,
   "metadata": {
    "colab": {
     "base_uri": "https://localhost:8080/",
     "height": 87
    },
    "id": "klKc5waL49jG",
    "outputId": "8873ae6f-d1b7-40e2-9b98-32a1380b171a"
   },
   "outputs": [
    {
     "data": {
      "text/plain": [
       "\"EXERCISE 4: ETL with Tools and Frameworks (Pandas + SQLite)\\nScenario: You're working for a retail company.\\nSales records are stored in a SQLite database.\\nSome records contain missing values, duplicates, or inconsistent formats.\\nClean and export this data.\\n\""
      ]
     },
     "execution_count": 1,
     "metadata": {},
     "output_type": "execute_result"
    }
   ],
   "source": [
    "\"\"\"EXERCISE 4: ETL with Tools and Frameworks (Pandas + SQLite)\n",
    "Scenario: You're working for a retail company.\n",
    "Sales records are stored in a SQLite database.\n",
    "Some records contain missing values, duplicates, or inconsistent formats.\n",
    "Clean and export this data.\n",
    "\"\"\""
   ]
  },
  {
   "cell_type": "code",
   "execution_count": 1,
   "metadata": {
    "id": "uvEjdF595EER"
   },
   "outputs": [
    {
     "ename": "ModuleNotFoundError",
     "evalue": "No module named 'pandas'",
     "output_type": "error",
     "traceback": [
      "\u001b[31m---------------------------------------------------------------------------\u001b[39m",
      "\u001b[31mModuleNotFoundError\u001b[39m                       Traceback (most recent call last)",
      "\u001b[36mCell\u001b[39m\u001b[36m \u001b[39m\u001b[32mIn[1]\u001b[39m\u001b[32m, line 1\u001b[39m\n\u001b[32m----> \u001b[39m\u001b[32m1\u001b[39m \u001b[38;5;28;01mimport\u001b[39;00m\u001b[38;5;250m \u001b[39m\u001b[34;01mpandas\u001b[39;00m\u001b[38;5;250m \u001b[39m\u001b[38;5;28;01mas\u001b[39;00m\u001b[38;5;250m \u001b[39m\u001b[34;01mpd\u001b[39;00m\n\u001b[32m      2\u001b[39m \u001b[38;5;28;01mfrom\u001b[39;00m\u001b[38;5;250m \u001b[39m\u001b[34;01msqlalchemy\u001b[39;00m\u001b[38;5;250m \u001b[39m\u001b[38;5;28;01mimport\u001b[39;00m create_engine, inspect\n",
      "\u001b[31mModuleNotFoundError\u001b[39m: No module named 'pandas'"
     ]
    }
   ],
   "source": [
    "import pandas as pd\n",
    "from sqlalchemy import create_engine, inspect"
   ]
  },
  {
   "cell_type": "code",
   "execution_count": 3,
   "metadata": {
    "id": "joQdRD-05HE4"
   },
   "outputs": [],
   "source": [
    "df = pd.read_csv('/content/encoded-Program4_sales_data (1).csv')"
   ]
  },
  {
   "cell_type": "code",
   "execution_count": 4,
   "metadata": {
    "colab": {
     "base_uri": "https://localhost:8080/",
     "height": 0
    },
    "id": "a0Lct9lh5VD3",
    "outputId": "653d04c4-32de-4041-c213-b43c182e5317"
   },
   "outputs": [
    {
     "name": "stdout",
     "output_type": "stream",
     "text": [
      "<class 'pandas.core.frame.DataFrame'>\n",
      "RangeIndex: 2823 entries, 0 to 2822\n",
      "Data columns (total 25 columns):\n",
      " #   Column            Non-Null Count  Dtype  \n",
      "---  ------            --------------  -----  \n",
      " 0   ORDERNUMBER       2823 non-null   int64  \n",
      " 1   QUANTITYORDERED   2823 non-null   int64  \n",
      " 2   PRICEEACH         2823 non-null   float64\n",
      " 3   ORDERLINENUMBER   2823 non-null   int64  \n",
      " 4   SALES             2823 non-null   float64\n",
      " 5   ORDERDATE         2823 non-null   object \n",
      " 6   STATUS            2823 non-null   object \n",
      " 7   QTR_ID            2823 non-null   int64  \n",
      " 8   MONTH_ID          2823 non-null   int64  \n",
      " 9   YEAR_ID           2823 non-null   int64  \n",
      " 10  PRODUCTLINE       2823 non-null   object \n",
      " 11  MSRP              2823 non-null   int64  \n",
      " 12  PRODUCTCODE       2823 non-null   object \n",
      " 13  CUSTOMERNAME      2823 non-null   object \n",
      " 14  PHONE             2823 non-null   object \n",
      " 15  ADDRESSLINE1      2823 non-null   object \n",
      " 16  ADDRESSLINE2      302 non-null    object \n",
      " 17  CITY              2823 non-null   object \n",
      " 18  STATE             1337 non-null   object \n",
      " 19  POSTALCODE        2747 non-null   object \n",
      " 20  COUNTRY           2823 non-null   object \n",
      " 21  TERRITORY         1749 non-null   object \n",
      " 22  CONTACTLASTNAME   2823 non-null   object \n",
      " 23  CONTACTFIRSTNAME  2823 non-null   object \n",
      " 24  DEALSIZE          2823 non-null   object \n",
      "dtypes: float64(2), int64(7), object(16)\n",
      "memory usage: 551.5+ KB\n"
     ]
    }
   ],
   "source": [
    "df.info()"
   ]
  },
  {
   "cell_type": "code",
   "execution_count": 5,
   "metadata": {
    "colab": {
     "base_uri": "https://localhost:8080/",
     "height": 868
    },
    "id": "g-3FOfuE5WBX",
    "outputId": "f2b496ad-8e89-4000-8079-3b7b9771f773"
   },
   "outputs": [
    {
     "data": {
      "text/html": [
       "<div>\n",
       "<style scoped>\n",
       "    .dataframe tbody tr th:only-of-type {\n",
       "        vertical-align: middle;\n",
       "    }\n",
       "\n",
       "    .dataframe tbody tr th {\n",
       "        vertical-align: top;\n",
       "    }\n",
       "\n",
       "    .dataframe thead th {\n",
       "        text-align: right;\n",
       "    }\n",
       "</style>\n",
       "<table border=\"1\" class=\"dataframe\">\n",
       "  <thead>\n",
       "    <tr style=\"text-align: right;\">\n",
       "      <th></th>\n",
       "      <th>0</th>\n",
       "    </tr>\n",
       "  </thead>\n",
       "  <tbody>\n",
       "    <tr>\n",
       "      <th>ORDERNUMBER</th>\n",
       "      <td>0.000000</td>\n",
       "    </tr>\n",
       "    <tr>\n",
       "      <th>QUANTITYORDERED</th>\n",
       "      <td>0.000000</td>\n",
       "    </tr>\n",
       "    <tr>\n",
       "      <th>PRICEEACH</th>\n",
       "      <td>0.000000</td>\n",
       "    </tr>\n",
       "    <tr>\n",
       "      <th>ORDERLINENUMBER</th>\n",
       "      <td>0.000000</td>\n",
       "    </tr>\n",
       "    <tr>\n",
       "      <th>SALES</th>\n",
       "      <td>0.000000</td>\n",
       "    </tr>\n",
       "    <tr>\n",
       "      <th>ORDERDATE</th>\n",
       "      <td>0.000000</td>\n",
       "    </tr>\n",
       "    <tr>\n",
       "      <th>STATUS</th>\n",
       "      <td>0.000000</td>\n",
       "    </tr>\n",
       "    <tr>\n",
       "      <th>QTR_ID</th>\n",
       "      <td>0.000000</td>\n",
       "    </tr>\n",
       "    <tr>\n",
       "      <th>MONTH_ID</th>\n",
       "      <td>0.000000</td>\n",
       "    </tr>\n",
       "    <tr>\n",
       "      <th>YEAR_ID</th>\n",
       "      <td>0.000000</td>\n",
       "    </tr>\n",
       "    <tr>\n",
       "      <th>PRODUCTLINE</th>\n",
       "      <td>0.000000</td>\n",
       "    </tr>\n",
       "    <tr>\n",
       "      <th>MSRP</th>\n",
       "      <td>0.000000</td>\n",
       "    </tr>\n",
       "    <tr>\n",
       "      <th>PRODUCTCODE</th>\n",
       "      <td>0.000000</td>\n",
       "    </tr>\n",
       "    <tr>\n",
       "      <th>CUSTOMERNAME</th>\n",
       "      <td>0.000000</td>\n",
       "    </tr>\n",
       "    <tr>\n",
       "      <th>PHONE</th>\n",
       "      <td>0.000000</td>\n",
       "    </tr>\n",
       "    <tr>\n",
       "      <th>ADDRESSLINE1</th>\n",
       "      <td>0.000000</td>\n",
       "    </tr>\n",
       "    <tr>\n",
       "      <th>ADDRESSLINE2</th>\n",
       "      <td>89.302161</td>\n",
       "    </tr>\n",
       "    <tr>\n",
       "      <th>CITY</th>\n",
       "      <td>0.000000</td>\n",
       "    </tr>\n",
       "    <tr>\n",
       "      <th>STATE</th>\n",
       "      <td>52.639036</td>\n",
       "    </tr>\n",
       "    <tr>\n",
       "      <th>POSTALCODE</th>\n",
       "      <td>2.692171</td>\n",
       "    </tr>\n",
       "    <tr>\n",
       "      <th>COUNTRY</th>\n",
       "      <td>0.000000</td>\n",
       "    </tr>\n",
       "    <tr>\n",
       "      <th>TERRITORY</th>\n",
       "      <td>38.044633</td>\n",
       "    </tr>\n",
       "    <tr>\n",
       "      <th>CONTACTLASTNAME</th>\n",
       "      <td>0.000000</td>\n",
       "    </tr>\n",
       "    <tr>\n",
       "      <th>CONTACTFIRSTNAME</th>\n",
       "      <td>0.000000</td>\n",
       "    </tr>\n",
       "    <tr>\n",
       "      <th>DEALSIZE</th>\n",
       "      <td>0.000000</td>\n",
       "    </tr>\n",
       "  </tbody>\n",
       "</table>\n",
       "</div><br><label><b>dtype:</b> float64</label>"
      ],
      "text/plain": [
       "ORDERNUMBER          0.000000\n",
       "QUANTITYORDERED      0.000000\n",
       "PRICEEACH            0.000000\n",
       "ORDERLINENUMBER      0.000000\n",
       "SALES                0.000000\n",
       "ORDERDATE            0.000000\n",
       "STATUS               0.000000\n",
       "QTR_ID               0.000000\n",
       "MONTH_ID             0.000000\n",
       "YEAR_ID              0.000000\n",
       "PRODUCTLINE          0.000000\n",
       "MSRP                 0.000000\n",
       "PRODUCTCODE          0.000000\n",
       "CUSTOMERNAME         0.000000\n",
       "PHONE                0.000000\n",
       "ADDRESSLINE1         0.000000\n",
       "ADDRESSLINE2        89.302161\n",
       "CITY                 0.000000\n",
       "STATE               52.639036\n",
       "POSTALCODE           2.692171\n",
       "COUNTRY              0.000000\n",
       "TERRITORY           38.044633\n",
       "CONTACTLASTNAME      0.000000\n",
       "CONTACTFIRSTNAME     0.000000\n",
       "DEALSIZE             0.000000\n",
       "dtype: float64"
      ]
     },
     "execution_count": 5,
     "metadata": {},
     "output_type": "execute_result"
    }
   ],
   "source": [
    "(df.isnull().sum()/df.shape[0])*100"
   ]
  },
  {
   "cell_type": "code",
   "execution_count": 6,
   "metadata": {
    "id": "4PwcjWHD5gwI"
   },
   "outputs": [],
   "source": [
    "df.drop(columns=['ADDRESSLINE2', 'STATE'], inplace=True)"
   ]
  },
  {
   "cell_type": "code",
   "execution_count": 8,
   "metadata": {
    "colab": {
     "base_uri": "https://localhost:8080/",
     "height": 805
    },
    "id": "ej_sRptp53Gp",
    "outputId": "c4a562b2-5946-4bd8-a462-af067317e8cd"
   },
   "outputs": [
    {
     "data": {
      "text/html": [
       "<div>\n",
       "<style scoped>\n",
       "    .dataframe tbody tr th:only-of-type {\n",
       "        vertical-align: middle;\n",
       "    }\n",
       "\n",
       "    .dataframe tbody tr th {\n",
       "        vertical-align: top;\n",
       "    }\n",
       "\n",
       "    .dataframe thead th {\n",
       "        text-align: right;\n",
       "    }\n",
       "</style>\n",
       "<table border=\"1\" class=\"dataframe\">\n",
       "  <thead>\n",
       "    <tr style=\"text-align: right;\">\n",
       "      <th></th>\n",
       "      <th>0</th>\n",
       "    </tr>\n",
       "  </thead>\n",
       "  <tbody>\n",
       "    <tr>\n",
       "      <th>ORDERNUMBER</th>\n",
       "      <td>0.000000</td>\n",
       "    </tr>\n",
       "    <tr>\n",
       "      <th>QUANTITYORDERED</th>\n",
       "      <td>0.000000</td>\n",
       "    </tr>\n",
       "    <tr>\n",
       "      <th>PRICEEACH</th>\n",
       "      <td>0.000000</td>\n",
       "    </tr>\n",
       "    <tr>\n",
       "      <th>ORDERLINENUMBER</th>\n",
       "      <td>0.000000</td>\n",
       "    </tr>\n",
       "    <tr>\n",
       "      <th>SALES</th>\n",
       "      <td>0.000000</td>\n",
       "    </tr>\n",
       "    <tr>\n",
       "      <th>ORDERDATE</th>\n",
       "      <td>0.000000</td>\n",
       "    </tr>\n",
       "    <tr>\n",
       "      <th>STATUS</th>\n",
       "      <td>0.000000</td>\n",
       "    </tr>\n",
       "    <tr>\n",
       "      <th>QTR_ID</th>\n",
       "      <td>0.000000</td>\n",
       "    </tr>\n",
       "    <tr>\n",
       "      <th>MONTH_ID</th>\n",
       "      <td>0.000000</td>\n",
       "    </tr>\n",
       "    <tr>\n",
       "      <th>YEAR_ID</th>\n",
       "      <td>0.000000</td>\n",
       "    </tr>\n",
       "    <tr>\n",
       "      <th>PRODUCTLINE</th>\n",
       "      <td>0.000000</td>\n",
       "    </tr>\n",
       "    <tr>\n",
       "      <th>MSRP</th>\n",
       "      <td>0.000000</td>\n",
       "    </tr>\n",
       "    <tr>\n",
       "      <th>PRODUCTCODE</th>\n",
       "      <td>0.000000</td>\n",
       "    </tr>\n",
       "    <tr>\n",
       "      <th>CUSTOMERNAME</th>\n",
       "      <td>0.000000</td>\n",
       "    </tr>\n",
       "    <tr>\n",
       "      <th>PHONE</th>\n",
       "      <td>0.000000</td>\n",
       "    </tr>\n",
       "    <tr>\n",
       "      <th>ADDRESSLINE1</th>\n",
       "      <td>0.000000</td>\n",
       "    </tr>\n",
       "    <tr>\n",
       "      <th>CITY</th>\n",
       "      <td>0.000000</td>\n",
       "    </tr>\n",
       "    <tr>\n",
       "      <th>POSTALCODE</th>\n",
       "      <td>2.692171</td>\n",
       "    </tr>\n",
       "    <tr>\n",
       "      <th>COUNTRY</th>\n",
       "      <td>0.000000</td>\n",
       "    </tr>\n",
       "    <tr>\n",
       "      <th>TERRITORY</th>\n",
       "      <td>38.044633</td>\n",
       "    </tr>\n",
       "    <tr>\n",
       "      <th>CONTACTLASTNAME</th>\n",
       "      <td>0.000000</td>\n",
       "    </tr>\n",
       "    <tr>\n",
       "      <th>CONTACTFIRSTNAME</th>\n",
       "      <td>0.000000</td>\n",
       "    </tr>\n",
       "    <tr>\n",
       "      <th>DEALSIZE</th>\n",
       "      <td>0.000000</td>\n",
       "    </tr>\n",
       "  </tbody>\n",
       "</table>\n",
       "</div><br><label><b>dtype:</b> float64</label>"
      ],
      "text/plain": [
       "ORDERNUMBER          0.000000\n",
       "QUANTITYORDERED      0.000000\n",
       "PRICEEACH            0.000000\n",
       "ORDERLINENUMBER      0.000000\n",
       "SALES                0.000000\n",
       "ORDERDATE            0.000000\n",
       "STATUS               0.000000\n",
       "QTR_ID               0.000000\n",
       "MONTH_ID             0.000000\n",
       "YEAR_ID              0.000000\n",
       "PRODUCTLINE          0.000000\n",
       "MSRP                 0.000000\n",
       "PRODUCTCODE          0.000000\n",
       "CUSTOMERNAME         0.000000\n",
       "PHONE                0.000000\n",
       "ADDRESSLINE1         0.000000\n",
       "CITY                 0.000000\n",
       "POSTALCODE           2.692171\n",
       "COUNTRY              0.000000\n",
       "TERRITORY           38.044633\n",
       "CONTACTLASTNAME      0.000000\n",
       "CONTACTFIRSTNAME     0.000000\n",
       "DEALSIZE             0.000000\n",
       "dtype: float64"
      ]
     },
     "execution_count": 8,
     "metadata": {},
     "output_type": "execute_result"
    }
   ],
   "source": [
    "(df.isnull().sum()/df.shape[0])*100"
   ]
  },
  {
   "cell_type": "code",
   "execution_count": 12,
   "metadata": {
    "id": "_CqQX5TA54Rn"
   },
   "outputs": [],
   "source": [
    "df['POSTALCODE'] = df['POSTALCODE'].fillna(df['POSTALCODE'].mode()[0])\n",
    "df['TERRITORY'] = df['TERRITORY'].fillna(df['TERRITORY'].mode()[0])"
   ]
  },
  {
   "cell_type": "code",
   "execution_count": 13,
   "metadata": {
    "colab": {
     "base_uri": "https://localhost:8080/",
     "height": 805
    },
    "id": "VM8qpkbW6YJK",
    "outputId": "4efa58c6-633b-450e-bf76-4886b14367a0"
   },
   "outputs": [
    {
     "data": {
      "text/html": [
       "<div>\n",
       "<style scoped>\n",
       "    .dataframe tbody tr th:only-of-type {\n",
       "        vertical-align: middle;\n",
       "    }\n",
       "\n",
       "    .dataframe tbody tr th {\n",
       "        vertical-align: top;\n",
       "    }\n",
       "\n",
       "    .dataframe thead th {\n",
       "        text-align: right;\n",
       "    }\n",
       "</style>\n",
       "<table border=\"1\" class=\"dataframe\">\n",
       "  <thead>\n",
       "    <tr style=\"text-align: right;\">\n",
       "      <th></th>\n",
       "      <th>0</th>\n",
       "    </tr>\n",
       "  </thead>\n",
       "  <tbody>\n",
       "    <tr>\n",
       "      <th>ORDERNUMBER</th>\n",
       "      <td>0.0</td>\n",
       "    </tr>\n",
       "    <tr>\n",
       "      <th>QUANTITYORDERED</th>\n",
       "      <td>0.0</td>\n",
       "    </tr>\n",
       "    <tr>\n",
       "      <th>PRICEEACH</th>\n",
       "      <td>0.0</td>\n",
       "    </tr>\n",
       "    <tr>\n",
       "      <th>ORDERLINENUMBER</th>\n",
       "      <td>0.0</td>\n",
       "    </tr>\n",
       "    <tr>\n",
       "      <th>SALES</th>\n",
       "      <td>0.0</td>\n",
       "    </tr>\n",
       "    <tr>\n",
       "      <th>ORDERDATE</th>\n",
       "      <td>0.0</td>\n",
       "    </tr>\n",
       "    <tr>\n",
       "      <th>STATUS</th>\n",
       "      <td>0.0</td>\n",
       "    </tr>\n",
       "    <tr>\n",
       "      <th>QTR_ID</th>\n",
       "      <td>0.0</td>\n",
       "    </tr>\n",
       "    <tr>\n",
       "      <th>MONTH_ID</th>\n",
       "      <td>0.0</td>\n",
       "    </tr>\n",
       "    <tr>\n",
       "      <th>YEAR_ID</th>\n",
       "      <td>0.0</td>\n",
       "    </tr>\n",
       "    <tr>\n",
       "      <th>PRODUCTLINE</th>\n",
       "      <td>0.0</td>\n",
       "    </tr>\n",
       "    <tr>\n",
       "      <th>MSRP</th>\n",
       "      <td>0.0</td>\n",
       "    </tr>\n",
       "    <tr>\n",
       "      <th>PRODUCTCODE</th>\n",
       "      <td>0.0</td>\n",
       "    </tr>\n",
       "    <tr>\n",
       "      <th>CUSTOMERNAME</th>\n",
       "      <td>0.0</td>\n",
       "    </tr>\n",
       "    <tr>\n",
       "      <th>PHONE</th>\n",
       "      <td>0.0</td>\n",
       "    </tr>\n",
       "    <tr>\n",
       "      <th>ADDRESSLINE1</th>\n",
       "      <td>0.0</td>\n",
       "    </tr>\n",
       "    <tr>\n",
       "      <th>CITY</th>\n",
       "      <td>0.0</td>\n",
       "    </tr>\n",
       "    <tr>\n",
       "      <th>POSTALCODE</th>\n",
       "      <td>0.0</td>\n",
       "    </tr>\n",
       "    <tr>\n",
       "      <th>COUNTRY</th>\n",
       "      <td>0.0</td>\n",
       "    </tr>\n",
       "    <tr>\n",
       "      <th>TERRITORY</th>\n",
       "      <td>0.0</td>\n",
       "    </tr>\n",
       "    <tr>\n",
       "      <th>CONTACTLASTNAME</th>\n",
       "      <td>0.0</td>\n",
       "    </tr>\n",
       "    <tr>\n",
       "      <th>CONTACTFIRSTNAME</th>\n",
       "      <td>0.0</td>\n",
       "    </tr>\n",
       "    <tr>\n",
       "      <th>DEALSIZE</th>\n",
       "      <td>0.0</td>\n",
       "    </tr>\n",
       "  </tbody>\n",
       "</table>\n",
       "</div><br><label><b>dtype:</b> float64</label>"
      ],
      "text/plain": [
       "ORDERNUMBER         0.0\n",
       "QUANTITYORDERED     0.0\n",
       "PRICEEACH           0.0\n",
       "ORDERLINENUMBER     0.0\n",
       "SALES               0.0\n",
       "ORDERDATE           0.0\n",
       "STATUS              0.0\n",
       "QTR_ID              0.0\n",
       "MONTH_ID            0.0\n",
       "YEAR_ID             0.0\n",
       "PRODUCTLINE         0.0\n",
       "MSRP                0.0\n",
       "PRODUCTCODE         0.0\n",
       "CUSTOMERNAME        0.0\n",
       "PHONE               0.0\n",
       "ADDRESSLINE1        0.0\n",
       "CITY                0.0\n",
       "POSTALCODE          0.0\n",
       "COUNTRY             0.0\n",
       "TERRITORY           0.0\n",
       "CONTACTLASTNAME     0.0\n",
       "CONTACTFIRSTNAME    0.0\n",
       "DEALSIZE            0.0\n",
       "dtype: float64"
      ]
     },
     "execution_count": 13,
     "metadata": {},
     "output_type": "execute_result"
    }
   ],
   "source": [
    "(df.isnull().sum()/df.shape[0])*100"
   ]
  },
  {
   "cell_type": "code",
   "execution_count": 15,
   "metadata": {
    "colab": {
     "base_uri": "https://localhost:8080/",
     "height": 0
    },
    "id": "jLXlRaQ36k9u",
    "outputId": "2b02e17d-4edd-43fe-b10f-5e1ca2ec0c70"
   },
   "outputs": [
    {
     "data": {
      "text/plain": [
       "np.int64(0)"
      ]
     },
     "execution_count": 15,
     "metadata": {},
     "output_type": "execute_result"
    }
   ],
   "source": [
    "df.duplicated().sum()"
   ]
  },
  {
   "cell_type": "code",
   "execution_count": 16,
   "metadata": {
    "colab": {
     "base_uri": "https://localhost:8080/",
     "height": 0
    },
    "id": "jXd5fwZk7Iqb",
    "outputId": "0fda84ba-dbe7-40af-db00-c3e9f85b3b29"
   },
   "outputs": [
    {
     "name": "stdout",
     "output_type": "stream",
     "text": [
      "\n",
      "Cleaned Data:\n",
      "       ORDERNUMBER  QUANTITYORDERED  PRICEEACH  ORDERLINENUMBER    SALES  \\\n",
      "0           10107               30      95.70                2  2871.00   \n",
      "1           10121               34      81.35                5  2765.90   \n",
      "2           10134               41      94.74                2  3884.34   \n",
      "3           10145               45      83.26                6  3746.70   \n",
      "4           10159               49     100.00               14  5205.27   \n",
      "...           ...              ...        ...              ...      ...   \n",
      "2818        10350               20     100.00               15  2244.40   \n",
      "2819        10373               29     100.00                1  3978.51   \n",
      "2820        10386               43     100.00                4  5417.57   \n",
      "2821        10397               34      62.24                1  2116.16   \n",
      "2822        10414               47      65.52                9  3079.44   \n",
      "\n",
      "            ORDERDATE    STATUS  QTR_ID  MONTH_ID  YEAR_ID  ...  \\\n",
      "0      2/24/2003 0:00   Shipped       1         2     2003  ...   \n",
      "1       5/7/2003 0:00   Shipped       2         5     2003  ...   \n",
      "2       7/1/2003 0:00   Shipped       3         7     2003  ...   \n",
      "3      8/25/2003 0:00   Shipped       3         8     2003  ...   \n",
      "4     10/10/2003 0:00   Shipped       4        10     2003  ...   \n",
      "...               ...       ...     ...       ...      ...  ...   \n",
      "2818   12/2/2004 0:00   Shipped       4        12     2004  ...   \n",
      "2819   1/31/2005 0:00   Shipped       1         1     2005  ...   \n",
      "2820    3/1/2005 0:00  Resolved       1         3     2005  ...   \n",
      "2821   3/28/2005 0:00   Shipped       1         3     2005  ...   \n",
      "2822    5/6/2005 0:00   On Hold       2         5     2005  ...   \n",
      "\n",
      "                  CUSTOMERNAME             PHONE  \\\n",
      "0            Land of Toys Inc.        2125557818   \n",
      "1           Reims Collectables        26.47.1555   \n",
      "2              Lyon Souveniers  +33 1 46 62 7555   \n",
      "3            Toys4GrownUps.com        6265557265   \n",
      "4     Corporate Gift Ideas Co.        6505551386   \n",
      "...                        ...               ...   \n",
      "2818     Euro Shopping Channel    (91) 555 94 44   \n",
      "2819   Oulu Toy Supplies, Inc.        981-443655   \n",
      "2820     Euro Shopping Channel    (91) 555 94 44   \n",
      "2821              Alpha Cognac        61.77.6555   \n",
      "2822         Gifts4AllAges.com        6175559555   \n",
      "\n",
      "                       ADDRESSLINE1           CITY POSTALCODE  COUNTRY  \\\n",
      "0           897 Long Airport Avenue            NYC      10022      USA   \n",
      "1                59 rue de l'Abbaye          Reims      51100   France   \n",
      "2     27 rue du Colonel Pierre Avia          Paris      75508   France   \n",
      "3                78934 Hillside Dr.       Pasadena      90003      USA   \n",
      "4                   7734 Strong St.  San Francisco      28034      USA   \n",
      "...                             ...            ...        ...      ...   \n",
      "2818             C/ Moralzarzal, 86         Madrid      28034    Spain   \n",
      "2819                    Torikatu 38           Oulu      90110  Finland   \n",
      "2820             C/ Moralzarzal, 86         Madrid      28034    Spain   \n",
      "2821          1 rue Alsace-Lorraine       Toulouse      31000   France   \n",
      "2822             8616 Spinnaker Dr.         Boston      51003      USA   \n",
      "\n",
      "     TERRITORY CONTACTLASTNAME CONTACTFIRSTNAME DEALSIZE  \n",
      "0         EMEA              Yu             Kwai    Small  \n",
      "1         EMEA         Henriot             Paul    Small  \n",
      "2         EMEA        Da Cunha           Daniel   Medium  \n",
      "3         EMEA           Young            Julie   Medium  \n",
      "4         EMEA           Brown            Julie   Medium  \n",
      "...        ...             ...              ...      ...  \n",
      "2818      EMEA          Freyre            Diego    Small  \n",
      "2819      EMEA       Koskitalo           Pirkko   Medium  \n",
      "2820      EMEA          Freyre            Diego   Medium  \n",
      "2821      EMEA          Roulet          Annette    Small  \n",
      "2822      EMEA         Yoshido             Juri   Medium  \n",
      "\n",
      "[2823 rows x 23 columns]\n",
      "\n",
      "Cleaned data saved to 'cleaned_250902_data.csv'\n"
     ]
    }
   ],
   "source": [
    "print(\"\\nCleaned Data:\\n\", df)\n",
    "df.to_csv(\"cleaned_250902_data.csv\", index=False)\n",
    "print(\"\\nCleaned data saved to 'cleaned_250902_data.csv'\")\n"
   ]
  },
  {
   "cell_type": "code",
   "execution_count": 3,
   "metadata": {
    "id": "3mA9NtBz7dTn"
   },
   "outputs": [
    {
     "name": "stdout",
     "output_type": "stream",
     "text": [
      "Package           Version\n",
      "----------------- -----------\n",
      "numpy             2.3.2\n",
      "pandas            2.3.2\n",
      "pip               25.2\n",
      "python-dateutil   2.9.0.post0\n",
      "pytz              2025.2\n",
      "six               1.17.0\n",
      "SQLAlchemy        2.0.43\n",
      "typing_extensions 4.15.0\n",
      "tzdata            2025.2\n"
     ]
    }
   ],
   "source": [
    "!pip list"
   ]
  },
  {
   "cell_type": "code",
   "execution_count": null,
   "metadata": {},
   "outputs": [],
   "source": []
  }
 ],
 "metadata": {
  "colab": {
   "provenance": []
  },
  "kernelspec": {
   "display_name": "Python 3 (ipykernel)",
   "language": "python",
   "name": "python3"
  },
  "language_info": {
   "codemirror_mode": {
    "name": "ipython",
    "version": 3
   },
   "file_extension": ".py",
   "mimetype": "text/x-python",
   "name": "python",
   "nbconvert_exporter": "python",
   "pygments_lexer": "ipython3",
   "version": "3.13.7"
  }
 },
 "nbformat": 4,
 "nbformat_minor": 4
}
